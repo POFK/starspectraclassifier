{
 "cells": [
  {
   "cell_type": "markdown",
   "metadata": {},
   "source": [
    "## Network model"
   ]
  },
  {
   "cell_type": "markdown",
   "metadata": {},
   "source": [
    "This is an example of how to use the network model. The only thing should do is modify the parameters named \"log_dir\" and \"model_dir\" to the directory path where the repository located. After that, read you preprocessed data ([see an example](./exam_preprocessing.ipynb)) and run the following lines step by step. Note that if you run this scripy on Jupyter, you must restart the kernel every time to avoid the namescope conflicts in tensorflow."
   ]
  },
  {
   "cell_type": "code",
   "execution_count": 1,
   "metadata": {},
   "outputs": [],
   "source": [
    "name = 'ResNN_004'\n",
    "batch_size = 64\n",
    "model_basename = 'ResNN4-SDSS'\n",
    "train_steps = 50000\n",
    "import sys; sys.argv=['', \n",
    "                      '--log_dir', '/home/mtx/git/SDSSV_Classifiers/log',  # modify it to 'path/to/repository/log'\n",
    "                      '--model_dir', '/home/mtx/git/SDSSV_Classifiers/model', # modify it to 'path/to/repository/model'\n",
    "                      '--batch_size', '%d'%batch_size,\n",
    "                      '--model_basename', model_basename,\n",
    "                      '--train_steps', '%d'%train_steps,\n",
    "                      '--learning_rate', '1e-3',\n",
    "                      '--Is_BN', 'True',\n",
    "                      '--weight_decay','5e-6',\n",
    "                     ];\n",
    "del sys\n",
    "import os"
   ]
  },
  {
   "cell_type": "code",
   "execution_count": 2,
   "metadata": {},
   "outputs": [
    {
     "name": "stderr",
     "output_type": "stream",
     "text": [
      "/home/mtx/local/anaconda2/envs/tf1.5/lib/python2.7/site-packages/h5py/__init__.py:36: FutureWarning: Conversion of the second argument of issubdtype from `float` to `np.floating` is deprecated. In future, it will be treated as `np.float64 == np.dtype(float).type`.\n",
      "  from ._conv import register_converters as _register_converters\n"
     ]
    }
   ],
   "source": [
    "import tensorflow as tf\n",
    "import numpy as np\n",
    "import tqdm\n",
    "tf.logging.set_verbosity(tf.logging.INFO)\n",
    "from tftool.main import Main"
   ]
  },
  {
   "cell_type": "code",
   "execution_count": 3,
   "metadata": {},
   "outputs": [
    {
     "name": "stdout",
     "output_type": "stream",
     "text": [
      "INFO:tensorflow:(<class 'tftool.main.Main'>, <class 'tftool.Train.Train'>, <class 'tftool.Network.Model'>, <class 'tftool.InputPipeline.InputPipeline'>, <class 'tftool.Utils.Toolkit'>, <class 'tftool.Base.Base'>, <type 'object'>)\n",
      "Namespace(Is_BN=True, batch_size=64, learning_rate=0.001, log_dir='/home/mtx/git/SDSSV_Classifiers/log', model_basename='ResNN4-SDSS', model_dir='/home/mtx/git/SDSSV_Classifiers/model', train_steps=50000, weight_decay=5e-06)\n"
     ]
    }
   ],
   "source": [
    "class RunWapper(Main):\n",
    "    def __init__(self, *args, **kwargs):\n",
    "        super(RunWapper, self).__init__(*args, **kwargs)\n",
    "        self.data_shape = 3000\n",
    "    def __call__(self):\n",
    "        \"\"\"an example for constructing network model\"\"\"\n",
    "        self.train_filenames = [\"/nfs/P100/SDSSV_Classifiers/processed_dataset/TF_dataset/training.tfrecords\"]\n",
    "        self.valid_filenames = [\"/nfs/P100/SDSSV_Classifiers/processed_dataset/TF_dataset/valid.tfrecords\"]\n",
    "        self.Is_training = tf.placeholder(tf.bool,shape=[],name='is_train')\n",
    "        x, y_ = self.loaddata(repeat=10,shuffle=True)\n",
    "        net = self.inference(x, is_training=self.Is_training)\n",
    "        loss = self.Loss_fn(self, net=net, y_=y_)\n",
    "        train_op = self.optimizer(loss, gclip=1.0)\n",
    "        self.train(loss, train_op)  \n",
    "    \n",
    "    def eval(self, flux, label):\n",
    "        BS = self.FLAGS.batch_size\n",
    "        label = label.astype(np.int32)\n",
    "        print flux.dtype, flux.shape\n",
    "        print label.dtype, label.shape\n",
    "        if label.shape[0]%BS == 0:\n",
    "            loop_num = label.shape[0]//BS\n",
    "        else:\n",
    "            loop_num = label.shape[0]//BS + 1\n",
    "        print \"loop number: %d\"%loop_num\n",
    "        #------------------------------------------------------------\n",
    "        x = tf.placeholder(tf.float32, shape=[None, self.data_shape])\n",
    "        y_ = tf.placeholder(tf.int32, shape=[None])\n",
    "        net = self.inference(x, is_training=False)\n",
    "        loss = self.Loss_fn(self, net=net, y_=y_)\n",
    "        prob = tf.get_collection('prob')[0]\n",
    "        LOSS = []\n",
    "        PROB = []\n",
    "        with tf.Session(config=self.config) as sess:\n",
    "            self.Saver = tf.train.Saver(max_to_keep=1)\n",
    "            self.init_model(sess)\n",
    "            coord = tf.train.Coordinator()\n",
    "            threads = tf.train.start_queue_runners(sess=sess, coord=coord)\n",
    "            for i in tqdm.tqdm(xrange(loop_num)):\n",
    "                el, ep, = sess.run([loss, prob], \n",
    "                                   feed_dict={x:flux[i*BS:(i+1)*BS],\n",
    "                                              y_:label[i*BS:(i+1)*BS]})\n",
    "                LOSS.append(el)\n",
    "                PROB.append(ep)\n",
    "            coord.request_stop()\n",
    "            coord.join(threads)\n",
    "        LOSS = np.array(LOSS)\n",
    "        PROB = np.vstack(PROB)\n",
    "        return LOSS, PROB\n",
    "dsc = RunWapper()\n",
    "print dsc.FLAGS"
   ]
  },
  {
   "cell_type": "markdown",
   "metadata": {},
   "source": [
    "---\n",
    "## Evaluation"
   ]
  },
  {
   "cell_type": "markdown",
   "metadata": {},
   "source": [
    "Here, load your preprocessed data. Before input the data into network, you should centralize and normalize the flux like below."
   ]
  },
  {
   "cell_type": "code",
   "execution_count": 4,
   "metadata": {},
   "outputs": [
    {
     "name": "stdout",
     "output_type": "stream",
     "text": [
      "(86,) (784,)\n",
      "(870,) [('index', '<i4'), ('label', '<i4'), ('flux_norm', '<f4', (3000,))]\n"
     ]
    }
   ],
   "source": [
    "data_hs = np.load('/nfs/P100/SDSSV_Classifiers/processed_dataset/dataset/test_hotstars.npy')\n",
    "data_wd = np.load('/nfs/P100/SDSSV_Classifiers/processed_dataset/dataset/test_wd.npy')\n",
    "print data_hs.shape, data_wd.shape\n",
    "dataset = np.hstack([data_hs, data_wd])\n",
    "print dataset.shape, dataset.dtype\n",
    "mean = np.load(os.path.join(dsc.FLAGS.model_dir,'Norm_mu.npy'))\n",
    "std = np.load(os.path.join(dsc.FLAGS.model_dir,'Norm_std.npy'))\n",
    "dataset['flux_norm'] = (dataset['flux_norm']-mean)/std"
   ]
  },
  {
   "cell_type": "code",
   "execution_count": 5,
   "metadata": {},
   "outputs": [],
   "source": [
    "with open(os.path.join(dsc.FLAGS.model_dir,'checkpoint'), \"w\") as f:\n",
    "    cp = 'model_checkpoint_path: \"{}\"\\n'.format(os.path.join(dsc.FLAGS.model_dir,\"ResNN4-SDSS-49999\"))\n",
    "    f.writelines(cp)"
   ]
  },
  {
   "cell_type": "markdown",
   "metadata": {},
   "source": [
    "The `prob` is the predicted probability of each type and you can get the largest probability type by `np.argmax`. Please note that the order of six probabilities is 'wdsb2', 'wd', 'yso', 'hotstars', 'fgkm', and 'cv'."
   ]
  },
  {
   "cell_type": "code",
   "execution_count": 6,
   "metadata": {},
   "outputs": [],
   "source": [
    "name_type = {'wdsb2': 0, 'wd': 1, 'yso': 2, 'hotstars': 3, 'fgkm': 4, 'cv': 5}"
   ]
  },
  {
   "cell_type": "code",
   "execution_count": 7,
   "metadata": {},
   "outputs": [
    {
     "name": "stdout",
     "output_type": "stream",
     "text": [
      "float32 (870, 3000)\n",
      "int32 (870,)\n",
      "loop number: 14\n",
      "INFO:tensorflow:Tensor(\"Placeholder:0\", shape=(?, 3000), dtype=float32)\n",
      "INFO:tensorflow:==========ResNet_softmax==========\n",
      "INFO:tensorflow:load variable from /home/mtx/git/SDSSV_Classifiers/model/ResNN4-SDSS-49999\n",
      "INFO:tensorflow:Restoring parameters from /home/mtx/git/SDSSV_Classifiers/model/ResNN4-SDSS-49999\n"
     ]
    },
    {
     "name": "stderr",
     "output_type": "stream",
     "text": [
      "100%|██████████| 14/14 [00:01<00:00, 13.31it/s]\n"
     ]
    }
   ],
   "source": [
    "loss, prob = dsc.eval(dataset['flux_norm'], dataset['label'])"
   ]
  },
  {
   "cell_type": "code",
   "execution_count": 8,
   "metadata": {},
   "outputs": [],
   "source": [
    "p_label = np.argmax(prob,axis=1)\n",
    "labelarr = dataset['label']"
   ]
  },
  {
   "cell_type": "raw",
   "metadata": {},
   "source": [
    "# for check, don't care it...\n",
    "with open('/nfs/P100/SDSSV_Classifiers/processed_dataset/filename/hotstars_test.txt','r') as f:\n",
    "    filehs = f.readlines()\n",
    "with open('/nfs/P100/SDSSV_Classifiers/processed_dataset/filename/wd_test.txt','r') as f:\n",
    "    filewd = f.readlines()\n",
    "with open('wd_hs_prob.txt', 'w') as f:\n",
    "    s = 0\n",
    "    for i in range(data_hs.shape[0]):\n",
    "        text = ['hotstars/'+filehs[i][:-1]]+prob[s].tolist()\n",
    "        f.writelines(\"{},{:.4f},{:.4f},{:.4f},{:.4f},{:.4f},{:.4f}\\n\".format(*text))\n",
    "        s+=1\n",
    "    print s\n",
    "    for i in range(data_wd.shape[0]):\n",
    "        text = ['wd/'+filewd[i][:-1]]+prob[s].tolist()\n",
    "        f.writelines(\"{},{:.4f},{:.4f},{:.4f},{:.4f},{:.4f},{:.4f}\\n\".format(*text))\n",
    "        s+=1\n",
    "    print s"
   ]
  },
  {
   "cell_type": "markdown",
   "metadata": {},
   "source": [
    "### check result"
   ]
  },
  {
   "cell_type": "markdown",
   "metadata": {},
   "source": [
    "I show the confusion matrix below."
   ]
  },
  {
   "cell_type": "code",
   "execution_count": 12,
   "metadata": {},
   "outputs": [],
   "source": [
    "%config InlineBackend.figure_format = 'retina' \n",
    "import matplotlib.pyplot as plt\n",
    "plt.rc('font', family='serif')\n",
    "plt.rc('text', usetex=True)\n",
    "params = {\n",
    "    'axes.labelsize': 12,\n",
    "    'legend.fontsize': 10,\n",
    "    'xtick.labelsize': 9,\n",
    "    'ytick.labelsize': 9,\n",
    "    'figure.figsize': [4.5, 4.5],\n",
    "    #----------\n",
    "    'xtick.direction': 'in',\n",
    "    'ytick.direction': 'in',\n",
    "    'image.cmap': 'jet',\n",
    "    'legend.frameon':  False,\n",
    "    'xtick.top': True,\n",
    "    'ytick.right': True,\n",
    "    #----------\n",
    "    'lines.linewidth': 2.0,\n",
    "    'xtick.minor.visible': True,\n",
    "    'ytick.minor.visible': True,\n",
    "    'xtick.minor.top': True, \n",
    "    'xtick.minor.bottom': True, \n",
    "    'ytick.minor.left': True, \n",
    "    'ytick.minor.right': True,\n",
    "    #----------\n",
    "    'lines.markeredgewidth': 0.5,\n",
    "    'errorbar.capsize': 5.0,\n",
    "   }\n",
    "plt.rcParams.update(params)"
   ]
  },
  {
   "cell_type": "code",
   "execution_count": 10,
   "metadata": {},
   "outputs": [],
   "source": [
    "m = np.c_[labelarr,p_label]\n",
    "matrix = np.zeros([6,6],dtype=np.float32)\n",
    "for i,j in m:\n",
    "    matrix[i,j]+=1."
   ]
  },
  {
   "cell_type": "code",
   "execution_count": 13,
   "metadata": {},
   "outputs": [
    {
     "name": "stdout",
     "output_type": "stream",
     "text": [
      "['wdsb2\\n0', 'wd\\n784', 'yso\\n0', 'hotstars\\n86', 'fgkm\\n0', 'cv\\n0']\n",
      "['wdsb2\\n0', 'wd\\n714', 'yso\\n0', 'hotstars\\n156', 'fgkm\\n0', 'cv\\n0']\n"
     ]
    },
    {
     "name": "stderr",
     "output_type": "stream",
     "text": [
      "__main__:1: RuntimeWarning: divide by zero encountered in log10\n"
     ]
    },
    {
     "data": {
      "text/plain": [
       "([<matplotlib.axis.YTick at 0x7fa02c7cec10>,\n",
       "  <matplotlib.axis.YTick at 0x7fa02c7ce6d0>,\n",
       "  <matplotlib.axis.YTick at 0x7fa0c84ad150>,\n",
       "  <matplotlib.axis.YTick at 0x7fa02c78df10>,\n",
       "  <matplotlib.axis.YTick at 0x7fa02c796510>,\n",
       "  <matplotlib.axis.YTick at 0x7fa02c796ad0>],\n",
       " <a list of 6 Text yticklabel objects>)"
      ]
     },
     "execution_count": 13,
     "metadata": {},
     "output_type": "execute_result"
    },
    {
     "data": {
      "image/png": "[encoded data removed]",
      "text/plain": [
       "<Figure size 324x324 with 1 Axes>"
      ]
     },
     "metadata": {
      "image/png": {
       "height": 297,
       "width": 316
      },
      "needs_background": "light"
     },
     "output_type": "display_data"
    }
   ],
   "source": [
    "plt.pcolor(np.log10(matrix.T))\n",
    "#plt.colorbar()\n",
    "for i in xrange(6):\n",
    "    for j in xrange(6):\n",
    "        if matrix[i,j]!=0:\n",
    "            plt.text(i+0.35,j+0.4,\"%d\"%np.round(matrix[i,j]),color='k')\n",
    "plt.xlabel('real')\n",
    "plt.ylabel('prediction')\n",
    "ticks_real = [\"{}\\n{}\".format(key,np.sum(labelarr==name_type[key])) for key in name_type.keys()]\n",
    "ticks_pred = [\"{}\\n{}\".format(key,np.sum(p_label==name_type[key])) for key in name_type.keys()]\n",
    "print ticks_real\n",
    "print ticks_pred\n",
    "plt.xticks(np.array(name_type.values())+0.5,ticks_real)\n",
    "plt.yticks(np.array(name_type.values())+0.5,ticks_pred)"
   ]
  },
  {
   "cell_type": "code",
   "execution_count": null,
   "metadata": {},
   "outputs": [],
   "source": []
  }
 ],
 "metadata": {
  "kernelspec": {
   "display_name": "Python 2",
   "language": "python",
   "name": "python2"
  },
  "language_info": {
   "codemirror_mode": {
    "name": "ipython",
    "version": 2
   },
   "file_extension": ".py",
   "mimetype": "text/x-python",
   "name": "python",
   "nbconvert_exporter": "python",
   "pygments_lexer": "ipython2",
   "version": "2.7.15"
  }
 },
 "nbformat": 4,
 "nbformat_minor": 2
}
