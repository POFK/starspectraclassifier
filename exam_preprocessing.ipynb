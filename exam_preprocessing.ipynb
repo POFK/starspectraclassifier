{
 "cells": [
  {
   "cell_type": "markdown",
   "metadata": {},
   "source": [
    "## Preprocessing\n",
    "This file is an example about how to preprocess and generate the input data of the network model."
   ]
  },
  {
   "cell_type": "code",
   "execution_count": 1,
   "metadata": {},
   "outputs": [],
   "source": [
    "import os\n",
    "import numpy as np\n",
    "import matplotlib.pyplot as plt\n",
    "from clean import DATA"
   ]
  },
  {
   "cell_type": "markdown",
   "metadata": {},
   "source": [
    "Here, I train the network by six type of star spectra and label them by 0~5. All spectra will be interpolated into a new wavelength, from 3900 Å to 9000 Å."
   ]
  },
  {
   "cell_type": "code",
   "execution_count": 2,
   "metadata": {},
   "outputs": [],
   "source": [
    "name_type = {'wdsb2': 0, 'wd': 1, 'yso': 2, 'hotstars': 3, 'fgkm': 4, 'cv': 5}\n",
    "frac = np.array([0.8, 0.9, 1.0])\n",
    "w_start = 3900.\n",
    "w_end = 9000. \n",
    "w_len = 3000\n",
    "wavenew = np.linspace(w_start, w_end, w_len / 1)\n",
    "dt = np.dtype([('index', 'i4'), ('label', 'i4'),\n",
    "               ('flux_norm', np.float32, w_len)])"
   ]
  },
  {
   "cell_type": "code",
   "execution_count": 3,
   "metadata": {},
   "outputs": [],
   "source": [
    "da = DATA()"
   ]
  },
  {
   "cell_type": "markdown",
   "metadata": {},
   "source": [
    "### Reading data\n",
    "I use the spectra of hotstars and wd as examples."
   ]
  },
  {
   "cell_type": "code",
   "execution_count": 4,
   "metadata": {},
   "outputs": [],
   "source": [
    "Dir = \"/nfs/P100/SDSSV_Classifiers/data/optical\""
   ]
  },
  {
   "cell_type": "code",
   "execution_count": 5,
   "metadata": {},
   "outputs": [
    {
     "name": "stdout",
     "output_type": "stream",
     "text": [
      "870\n"
     ]
    }
   ],
   "source": [
    "keys = [\"hotstars\",\"wd\"]\n",
    "fps = []\n",
    "labelarr = []\n",
    "for i in keys:\n",
    "    with open(\"/nfs/P100/SDSSV_Classifiers/processed_dataset/filename/%s_test.txt\"%i, 'r') as f:\n",
    "        fnames = f.readlines()\n",
    "    for j in range(len(fnames)):\n",
    "        fnames[j] = \"{}/{}\".format(i,fnames[j][:-1])\n",
    "        labelarr.append(name_type[i])\n",
    "    fps+=fnames\n",
    "labelarr = np.array(labelarr)\n",
    "print len(fps)"
   ]
  },
  {
   "cell_type": "markdown",
   "metadata": {},
   "source": [
    "### load spectrum\n",
    "The `read` function in `DATA` class is used to read fits file, which is copied from https://dr15.sdss.org/sas/sdss5/mwm/sandbox/classifier/training/loadspec.py. But take it easy, you can use any data format only if it has wavelength and flux information."
   ]
  },
  {
   "cell_type": "code",
   "execution_count": 6,
   "metadata": {},
   "outputs": [
    {
     "name": "stdout",
     "output_type": "stream",
     "text": [
      "<class loadspec.Spec1D at 0x7f8b8de8ce88>\n",
      "BOSS spec Optical spectrum\n",
      "File = /nfs/P100/SDSSV_Classifiers/data/optical/hotstars/spec-8175-57039-0798.fits\n",
      "S/N =   21.54\n",
      "Flux = [ 26.581879  18.972857  11.239796 ... -26.327734  25.048307  18.847332]\n",
      "Err = [ 6.722233  6.666507  6.111193 ... 17.39934  21.821981 28.822857]\n",
      "Wave = [ 3614.0994  3614.9307  3615.7625 ... 10394.412  10396.809  10401.593 ]\n"
     ]
    }
   ],
   "source": [
    "spec = []\n",
    "for fp in fps[:10]:\n",
    "    spec.append(da.read(os.path.join(Dir,fp)))\n",
    "print spec[0]"
   ]
  },
  {
   "cell_type": "markdown",
   "metadata": {},
   "source": [
    "The function `smooth4test` in `DATA` class contains the Gaussian smoothing and interpolation, which are the main preprocessing before run the network. You can find more details by reading code. The input of the `smooth4test` function `data` is a python dictionary, whose key is the index of spectrum. Each value in `data` dictionary must be a dictionary with 4 keys: \"index\", \"label\", \"wave\", \"flux\". The \"index\" and \"label\" are not important and can be assigned anything. For the \"wave\" and \"flux\", you should assign the wavelength array and flux array into them."
   ]
  },
  {
   "cell_type": "code",
   "execution_count": 7,
   "metadata": {},
   "outputs": [],
   "source": [
    "data = {}\n",
    "for i in range(len(spec)):\n",
    "    index = i \n",
    "    label = -1\n",
    "    wave = spec[i].wave\n",
    "    flux = spec[i].flux\n",
    "    data[i] = {\n",
    "        \"index\": index,\n",
    "        \"label\": label,\n",
    "        \"wave\": wave,\n",
    "        \"flux\": flux}"
   ]
  },
  {
   "cell_type": "code",
   "execution_count": 8,
   "metadata": {},
   "outputs": [
    {
     "name": "stdout",
     "output_type": "stream",
     "text": [
      "mask 0 elements from 10 spectra...\n"
     ]
    }
   ],
   "source": [
    "dataset = da.smooth4test(wavenew, data, sigma=200)"
   ]
  },
  {
   "cell_type": "markdown",
   "metadata": {},
   "source": [
    "This figure shows the spectrum without and with preprocessing."
   ]
  },
  {
   "cell_type": "code",
   "execution_count": 9,
   "metadata": {},
   "outputs": [
    {
     "data": {
      "image/png": "[encoded data removed]",
      "text/plain": [
       "<Figure size 324x648 with 2 Axes>"
      ]
     },
     "metadata": {
      "needs_background": "light"
     },
     "output_type": "display_data"
    }
   ],
   "source": [
    "fig, axes = plt.subplots(2,1,figsize=(4.5,9))\n",
    "ax = axes[0]\n",
    "ax.plot(spec[0].wave, spec[0].flux, 'k-', lw=0.5)\n",
    "ax.set_xlim([4000,9000])\n",
    "ax = axes[1]\n",
    "ax.plot(wavenew, dataset[0][\"flux_norm\"], 'k-', lw=0.5)\n",
    "ax.set_xlim([4000,9000])\n",
    "fig.savefig('./result/preprocessing.png')"
   ]
  },
  {
   "cell_type": "code",
   "execution_count": null,
   "metadata": {},
   "outputs": [],
   "source": []
  }
 ],
 "metadata": {
  "kernelspec": {
   "display_name": "Python 2",
   "language": "python",
   "name": "python2"
  },
  "language_info": {
   "codemirror_mode": {
    "name": "ipython",
    "version": 2
   },
   "file_extension": ".py",
   "mimetype": "text/x-python",
   "name": "python",
   "nbconvert_exporter": "python",
   "pygments_lexer": "ipython2",
   "version": "2.7.15"
  }
 },
 "nbformat": 4,
 "nbformat_minor": 2
}
