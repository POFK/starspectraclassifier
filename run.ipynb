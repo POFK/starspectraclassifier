{
 "cells": [
  {
   "cell_type": "markdown",
   "metadata": {},
   "source": [
    "## Model"
   ]
  },
  {
   "cell_type": "code",
   "execution_count": 1,
   "metadata": {},
   "outputs": [],
   "source": [
    "name = 'ResNN_004'\n",
    "batch_size = 64\n",
    "model_basename = 'ResNN4-SDSS'\n",
    "train_steps = 50000\n",
    "import sys; sys.argv=['', \n",
    "                      '--log_dir', '/nfs/P100/SDSSV_Classifiers/log/%s'%name, \n",
    "                      '--model_dir', '/nfs/P100/SDSSV_Classifiers/model/%s'%name, \n",
    "                      '--batch_size', '%d'%batch_size,\n",
    "                      '--model_basename', model_basename,\n",
    "                      '--train_steps', '%d'%train_steps,\n",
    "                      '--learning_rate', '1e-3',\n",
    "                      '--Is_BN', 'True',\n",
    "                      '--weight_decay','5e-6',\n",
    "                     ];\n",
    "del sys\n",
    "import os\n",
    "os.environ['CUDA_VISIBLE_DEVICES'] = '3'"
   ]
  },
  {
   "cell_type": "code",
   "execution_count": 2,
   "metadata": {},
   "outputs": [
    {
     "name": "stderr",
     "output_type": "stream",
     "text": [
      "/home/mtx/local/anaconda2/envs/tf1.5/lib/python2.7/site-packages/h5py/__init__.py:36: FutureWarning: Conversion of the second argument of issubdtype from `float` to `np.floating` is deprecated. In future, it will be treated as `np.float64 == np.dtype(float).type`.\n",
      "  from ._conv import register_converters as _register_converters\n"
     ]
    }
   ],
   "source": [
    "import tensorflow as tf\n",
    "import numpy as np\n",
    "import tqdm\n",
    "tf.logging.set_verbosity(tf.logging.INFO)"
   ]
  },
  {
   "cell_type": "code",
   "execution_count": 3,
   "metadata": {},
   "outputs": [],
   "source": [
    "from tftool.main import Main"
   ]
  },
  {
   "cell_type": "code",
   "execution_count": 4,
   "metadata": {},
   "outputs": [
    {
     "name": "stdout",
     "output_type": "stream",
     "text": [
      "INFO:tensorflow:(<class 'tftool.main.Main'>, <class 'tftool.Train.Train'>, <class 'tftool.Network.Model'>, <class 'tftool.InputPipeline.InputPipeline'>, <class 'tftool.Utils.Toolkit'>, <class 'tftool.Base.Base'>, <type 'object'>)\n",
      "Namespace(Is_BN=True, batch_size=64, learning_rate=0.001, log_dir='/nfs/P100/SDSSV_Classifiers/log/ResNN_004', model_basename='ResNN4-SDSS', model_dir='/nfs/P100/SDSSV_Classifiers/model/ResNN_004', train_steps=50000, weight_decay=5e-06)\n"
     ]
    }
   ],
   "source": [
    "class RunWapper(Main):\n",
    "    def __init__(self, *args, **kwargs):\n",
    "        super(RunWapper, self).__init__(*args, **kwargs)\n",
    "        self.data_shape = 3000\n",
    "    def __call__(self):\n",
    "        \"\"\"an example for constructing network model\"\"\"\n",
    "        self.train_filenames = [\"/nfs/P100/SDSSV_Classifiers/processed_dataset/TF_dataset/training.tfrecords\"]\n",
    "        self.valid_filenames = [\"/nfs/P100/SDSSV_Classifiers/processed_dataset/TF_dataset/valid.tfrecords\"]\n",
    "        self.Is_training = tf.placeholder(tf.bool,shape=[],name='is_train')\n",
    "        x, y_ = self.loaddata(repeat=10,shuffle=True)\n",
    "        net = self.inference(x, is_training=self.Is_training)\n",
    "        loss = self.Loss_fn(self, net=net, y_=y_)\n",
    "        train_op = self.optimizer(loss, gclip=1.0)\n",
    "        self.train(loss, train_op)  \n",
    "    \n",
    "    def eval(self, flux, label):\n",
    "        BS = self.FLAGS.batch_size\n",
    "        label = label.astype(np.int32)\n",
    "        print flux.dtype, flux.shape\n",
    "        print label.dtype, label.shape\n",
    "        if label.shape[0]%BS == 0:\n",
    "            loop_num = label.shape[0]//BS\n",
    "        else:\n",
    "            loop_num = label.shape[0]//BS + 1\n",
    "        print \"loop number: %d\"%loop_num\n",
    "        #------------------------------------------------------------\n",
    "        x = tf.placeholder(tf.float32, shape=[None, self.data_shape])\n",
    "        y_ = tf.placeholder(tf.int32, shape=[None])\n",
    "        net = self.inference(x, is_training=False)\n",
    "        loss = self.Loss_fn(self, net=net, y_=y_)\n",
    "        prob = tf.get_collection('prob')[0]\n",
    "        LOSS = []\n",
    "        PROB = []\n",
    "        with tf.Session(config=self.config) as sess:\n",
    "            self.Saver = tf.train.Saver(max_to_keep=1)\n",
    "            self.init_model(sess)\n",
    "            coord = tf.train.Coordinator()\n",
    "            threads = tf.train.start_queue_runners(sess=sess, coord=coord)\n",
    "            for i in tqdm.tqdm(xrange(loop_num)):\n",
    "                el, ep, = sess.run([loss, prob], \n",
    "                                   feed_dict={x:flux[i*BS:(i+1)*BS],\n",
    "                                              y_:label[i*BS:(i+1)*BS]})\n",
    "                LOSS.append(el)\n",
    "                PROB.append(ep)\n",
    "            coord.request_stop()\n",
    "            coord.join(threads)\n",
    "        LOSS = np.array(LOSS)\n",
    "        PROB = np.vstack(PROB)\n",
    "        return LOSS, PROB\n",
    "dsc = RunWapper()\n",
    "print dsc.FLAGS"
   ]
  },
  {
   "cell_type": "code",
   "execution_count": 5,
   "metadata": {},
   "outputs": [],
   "source": [
    "config = tf.ConfigProto(allow_soft_placement=True)\n",
    "gpu_options = tf.GPUOptions(per_process_gpu_memory_fraction=1.0)\n",
    "config.gpu_options.allow_growth = True\n",
    "dsc.opt = tf.train.AdamOptimizer\n",
    "#dsc.opt = tf.train.GradientDescentOptimizer\n",
    "dsc.Is_summary = True\n",
    "dsc.update_log_step =100\n",
    "dsc.save_per_steps = 2000\n",
    "dsc.print_log = False \n",
    "dsc.valid_size = 1024\n",
    "dsc.config = config"
   ]
  },
  {
   "cell_type": "markdown",
   "metadata": {},
   "source": [
    "### training"
   ]
  },
  {
   "cell_type": "code",
   "execution_count": 6,
   "metadata": {},
   "outputs": [
    {
     "name": "stdout",
     "output_type": "stream",
     "text": [
      "INFO:tensorflow:Tensor(\"InputPipeline/input_fn/IteratorGetNext:0\", shape=(?, 3000), dtype=float32)\n",
      "INFO:tensorflow:==========ResNet_softmax==========\n",
      "INFO:tensorflow:Init variable\n"
     ]
    },
    {
     "name": "stderr",
     "output_type": "stream",
     "text": [
      " 12%|█▏        | 6000/50000 [01:57<14:16, 51.38it/s]"
     ]
    },
    {
     "name": "stdout",
     "output_type": "stream",
     "text": [
      "epoch 1: 0.163504\n"
     ]
    },
    {
     "name": "stderr",
     "output_type": "stream",
     "text": [
      " 25%|██▌       | 12500/50000 [04:03<12:05, 51.67it/s]"
     ]
    },
    {
     "name": "stdout",
     "output_type": "stream",
     "text": [
      "epoch 2: 0.137878\n"
     ]
    },
    {
     "name": "stderr",
     "output_type": "stream",
     "text": [
      " 37%|███▋      | 18500/50000 [06:00<10:08, 51.78it/s]"
     ]
    },
    {
     "name": "stdout",
     "output_type": "stream",
     "text": [
      "epoch 3: 0.128304\n"
     ]
    },
    {
     "name": "stderr",
     "output_type": "stream",
     "text": [
      " 50%|█████     | 25000/50000 [08:05<08:03, 51.70it/s]"
     ]
    },
    {
     "name": "stdout",
     "output_type": "stream",
     "text": [
      "epoch 4: 0.120724\n"
     ]
    },
    {
     "name": "stderr",
     "output_type": "stream",
     "text": [
      " 62%|██████▏   | 31000/50000 [10:02<06:07, 51.77it/s]"
     ]
    },
    {
     "name": "stdout",
     "output_type": "stream",
     "text": [
      "epoch 5: 0.093635\n"
     ]
    },
    {
     "name": "stderr",
     "output_type": "stream",
     "text": [
      " 75%|███████▌  | 37500/50000 [12:08<04:01, 51.68it/s]"
     ]
    },
    {
     "name": "stdout",
     "output_type": "stream",
     "text": [
      "epoch 6: 0.110905\n"
     ]
    },
    {
     "name": "stderr",
     "output_type": "stream",
     "text": [
      " 87%|████████▋ | 43500/50000 [14:05<02:05, 51.63it/s]"
     ]
    },
    {
     "name": "stdout",
     "output_type": "stream",
     "text": [
      "epoch 7: 0.132687\n"
     ]
    },
    {
     "name": "stderr",
     "output_type": "stream",
     "text": [
      "100%|██████████| 50000/50000 [16:12<00:00, 51.41it/s]\n"
     ]
    }
   ],
   "source": [
    "dsc()"
   ]
  },
  {
   "cell_type": "markdown",
   "metadata": {},
   "source": [
    "---\n",
    "## Evaluation"
   ]
  },
  {
   "cell_type": "code",
   "execution_count": 6,
   "metadata": {},
   "outputs": [],
   "source": [
    "data_test = np.load('/nfs/P100/SDSSV_Classifiers/processed_dataset/TF_dataset/test.npy')\n",
    "#data_test = np.load('/nfs/P100/SDSSV_Classifiers/processed_dataset/TF_dataset/valid.npy')"
   ]
  },
  {
   "cell_type": "code",
   "execution_count": 7,
   "metadata": {},
   "outputs": [],
   "source": [
    "with open(os.path.join(dsc.FLAGS.model_dir,'checkpoint')) as f:\n",
    "    mid = f.readline().split('/')\n",
    "    mid = mid[-2]+'_'+mid[-1][:-2]"
   ]
  },
  {
   "cell_type": "code",
   "execution_count": 8,
   "metadata": {},
   "outputs": [
    {
     "name": "stdout",
     "output_type": "stream",
     "text": [
      "float32 (1778, 3000)\n",
      "int32 (1778,)\n",
      "loop number: 28\n",
      "INFO:tensorflow:Tensor(\"Placeholder:0\", shape=(?, 3000), dtype=float32)\n",
      "INFO:tensorflow:==========ResNet_softmax==========\n",
      "INFO:tensorflow:load variable from /nfs/P100/SDSSV_Classifiers/model/ResNN_004/ResNN4-SDSS-49999\n",
      "INFO:tensorflow:Restoring parameters from /nfs/P100/SDSSV_Classifiers/model/ResNN_004/ResNN4-SDSS-49999\n"
     ]
    },
    {
     "name": "stderr",
     "output_type": "stream",
     "text": [
      "100%|██████████| 28/28 [00:01<00:00, 27.30it/s]\n"
     ]
    }
   ],
   "source": [
    "loss, prob = dsc.eval(data_test['flux_norm'], data_test['label'])"
   ]
  },
  {
   "cell_type": "markdown",
   "metadata": {},
   "source": [
    "### check result"
   ]
  },
  {
   "cell_type": "code",
   "execution_count": 24,
   "metadata": {},
   "outputs": [],
   "source": [
    "import matplotlib.pyplot as plt\n",
    "params = {\n",
    "    'axes.labelsize': 10,\n",
    "    'legend.fontsize': 10,\n",
    "    'xtick.labelsize': 8,\n",
    "    'ytick.labelsize': 8,\n",
    "    'text.usetex': False,\n",
    "    'figure.figsize': [6, 6],\n",
    "    #----------\n",
    "    'xtick.direction': 'in',\n",
    "    'ytick.direction': 'in',\n",
    "    'image.cmap': 'jet',\n",
    "    #'image.cmap': 'Greys',\n",
    "    'legend.frameon':  False,\n",
    "    'xtick.top': True,\n",
    "    'ytick.right': True,\n",
    "    #----------\n",
    "    'lines.linewidth': 2.0,\n",
    "#    'axes.labelsize': 12,\n",
    "    'xtick.minor.visible': True,\n",
    "    'ytick.minor.visible': True,\n",
    "    'xtick.minor.top': True, \n",
    "    'xtick.minor.bottom': True, \n",
    "    'ytick.minor.left': True, \n",
    "    'ytick.minor.right': True,\n",
    "   }\n",
    "plt.rcParams.update(params)"
   ]
  },
  {
   "cell_type": "code",
   "execution_count": 25,
   "metadata": {},
   "outputs": [],
   "source": [
    "name_type = {0:'wdsb2', 1:'wd', 2:'yso', 3:'hotstars', 4:'fgkm', 5:'cv'}"
   ]
  },
  {
   "cell_type": "code",
   "execution_count": 26,
   "metadata": {},
   "outputs": [],
   "source": [
    "p_label = np.argmax(prob,axis=1)"
   ]
  },
  {
   "cell_type": "code",
   "execution_count": 27,
   "metadata": {},
   "outputs": [
    {
     "name": "stdout",
     "output_type": "stream",
     "text": [
      "[4 1 3 4 4 4 4 1 0 3 4 3 3 4 3 4 4 1 1 1 4 1 1 4 4 3 4 3 4 4]\n",
      "[4 1 1 4 4 4 4 1 0 1 4 1 3 4 1 4 4 1 1 1 4 1 1 4 4 1 4 1 4 4]\n"
     ]
    }
   ],
   "source": [
    "print p_label[:30]\n",
    "print data_test['label'][:30]"
   ]
  },
  {
   "cell_type": "code",
   "execution_count": 28,
   "metadata": {},
   "outputs": [],
   "source": [
    "m = np.c_[data_test['label'],p_label]\n",
    "matrix = np.zeros([6,6],dtype=np.float32)\n",
    "for i,j in m:\n",
    "    matrix[i,j]+=1."
   ]
  },
  {
   "cell_type": "code",
   "execution_count": 31,
   "metadata": {},
   "outputs": [
    {
     "name": "stderr",
     "output_type": "stream",
     "text": [
      "__main__:3: RuntimeWarning: divide by zero encountered in log10\n"
     ]
    },
    {
     "name": "stdout",
     "output_type": "stream",
     "text": [
      "['wdsb2\\n20', 'wd\\n784', 'yso\\n33', 'hotstars\\n86', 'fgkm\\n842', 'cv\\n13']\n",
      "['wdsb2\\n20', 'wd\\n714', 'yso\\n33', 'hotstars\\n157', 'fgkm\\n841', 'cv\\n13']\n"
     ]
    },
    {
     "data": {
      "image/png": "[encoded data removed]",
      "text/plain": [
       "<Figure size 432x432 with 1 Axes>"
      ]
     },
     "metadata": {
      "needs_background": "light"
     },
     "output_type": "display_data"
    }
   ],
   "source": [
    "\n",
    "plt.rcParams.update(params)\n",
    "plt.pcolor(np.log10(matrix.T))\n",
    "#plt.colorbar()\n",
    "for i in xrange(6):\n",
    "    for j in xrange(6):\n",
    "        if matrix[i,j]!=0:\n",
    "            plt.text(i+0.35,j+0.4,\"%d\"%np.round(matrix[i,j]),color='k')\n",
    "plt.xlabel('real')\n",
    "plt.ylabel('prediction')\n",
    "ticks_real = [name_type[key]+'\\n%d'%(np.sum(data_test['label']==key)) for key in name_type.keys()]\n",
    "ticks_pred = [name_type[key]+'\\n%d'%(np.sum(p_label==key)) for key in name_type.keys()]\n",
    "print ticks_real\n",
    "print ticks_pred\n",
    "plt.xticks(np.array(name_type.keys())+0.5,ticks_real)\n",
    "plt.yticks(np.array(name_type.keys())+0.5,ticks_pred)\n",
    "plt.savefig('result/pred_matrix.pdf')"
   ]
  },
  {
   "cell_type": "code",
   "execution_count": null,
   "metadata": {},
   "outputs": [],
   "source": []
  },
  {
   "cell_type": "code",
   "execution_count": null,
   "metadata": {},
   "outputs": [],
   "source": []
  }
 ],
 "metadata": {
  "kernelspec": {
   "display_name": "Python 2",
   "language": "python",
   "name": "python2"
  },
  "language_info": {
   "codemirror_mode": {
    "name": "ipython",
    "version": 2
   },
   "file_extension": ".py",
   "mimetype": "text/x-python",
   "name": "python",
   "nbconvert_exporter": "python",
   "pygments_lexer": "ipython2",
   "version": "2.7.15"
  }
 },
 "nbformat": 4,
 "nbformat_minor": 2
}
